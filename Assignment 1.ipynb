{
 "cells": [
  {
   "cell_type": "code",
   "execution_count": 15,
   "metadata": {},
   "outputs": [
    {
     "name": "stdout",
     "output_type": "stream",
     "text": [
      "Hello , Bikas kumar \n"
     ]
    }
   ],
   "source": [
    "#problem n0. :- 01\n",
    "\n",
    "#Install Jupyter notebook and run the first program and share the screenshot of the output\n",
    "\n",
    "print(\"Hello , Bikas kumar \")"
   ]
  },
  {
   "cell_type": "code",
   "execution_count": 1,
   "metadata": {},
   "outputs": [
    {
     "name": "stdout",
     "output_type": "stream",
     "text": [
      "2002, 2009, 2016, 2023, 2037, 2044, 2051, 2058, 2072, 2079, 2086, 2093, 2107, 2114, 2121, 2128, 2142, 2149, 2156, 2163, 2177, 2184, 2191, 2198, 2212, 2219, 2226, 2233, 2247, 2254, 2261, 2268, 2282, 2289, 2296, 2303, 2317, 2324, 2331, 2338, 2352, 2359, 2366, 2373, 2387, 2394, 2401, 2408, 2422, 2429, 2436, 2443, 2457, 2464, 2471, 2478, 2492, 2499, 2506, 2513, 2527, 2534, 2541, 2548, 2562, 2569, 2576, 2583, 2597, 2604, 2611, 2618, 2632, 2639, 2646, 2653, 2667, 2674, 2681, 2688, 2702, 2709, 2716, 2723, 2737, 2744, 2751, 2758, 2772, 2779, 2786, 2793, 2807, 2814, 2821, 2828, 2842, 2849, 2856, 2863, 2877, 2884, 2891, 2898, 2912, 2919, 2926, 2933, 2947, 2954, 2961, 2968, 2982, 2989, 2996, 3003, 3017, 3024, 3031, 3038, 3052, 3059, 3066, 3073, 3087, 3094, 3101, 3108, 3122, 3129, 3136, 3143, 3157, 3164, 3171, 3178, 3192, 3199, "
     ]
    }
   ],
   "source": [
    "#problem no.:2\n",
    "# Write a program which will find all such numbers which are divisible by 7 but are not a multiple\n",
    "#of 5, between 2000 and 3200 (both included). The numbers obtained should be printed in a\n",
    "#comma-separated sequence on a single line.\n",
    "\n",
    "for i in range(2000,3200):\n",
    "    if i%7==0 and i%5!=0:\n",
    "        print(i,end=', ')\n"
   ]
  },
  {
   "cell_type": "code",
   "execution_count": 2,
   "metadata": {},
   "outputs": [
    {
     "name": "stdout",
     "output_type": "stream",
     "text": [
      "enter your first nameBikas \n",
      "enter your last namekumar\n",
      "kumar Bikas \n"
     ]
    }
   ],
   "source": [
    "#problem no.: 03\n",
    "#Write a Python program to accept the user's first and last name and then getting them printed in\n",
    "#the the reverse order with a space between first name and last name.\n",
    "\n",
    "x = input(\"enter your first name\")\n",
    "y = input(\"enter your last name\")\n",
    "print(y +\" \" +x)"
   ]
  },
  {
   "cell_type": "code",
   "execution_count": 3,
   "metadata": {},
   "outputs": [
    {
     "name": "stdout",
     "output_type": "stream",
     "text": [
      "The volume of the sphare : 904.3199999999999\n"
     ]
    }
   ],
   "source": [
    "#problem no.:04\n",
    "# Write a Python program to find the volume of a sphere with diameter 12 cm.\n",
    "# Formula: V=4/3 * π * r 3\n",
    "\n",
    "r=6\n",
    "v = (4/3)*3.14*r**3\n",
    "print('The volume of the sphare :',v)\n"
   ]
  },
  {
   "cell_type": "code",
   "execution_count": 4,
   "metadata": {},
   "outputs": [
    {
     "name": "stdout",
     "output_type": "stream",
     "text": [
      "enter any number with commas1,2,3,4,5,,6,7\n",
      "List : ['1', '2', '3', '4', '5', '', '6', '7']\n"
     ]
    }
   ],
   "source": [
    "#TASK 2\n",
    "#Problem no.: 1\n",
    "\n",
    "#Write a program which accepts a sequence of comma-separated numbers from console and\n",
    "#generate a list.\n",
    "\n",
    "v=input(\"enter any number with commas\")\n",
    "list=v.split(\",\")\n",
    "print('List :',list)"
   ]
  },
  {
   "cell_type": "code",
   "execution_count": 5,
   "metadata": {},
   "outputs": [
    {
     "name": "stdout",
     "output_type": "stream",
     "text": [
      "\n",
      "* \n",
      "* * \n",
      "* * * \n",
      "* * * * \n",
      "* * * * * \n",
      "* * * * \n",
      "* * * \n",
      "* * \n",
      "* \n"
     ]
    }
   ],
   "source": [
    "#problem -02\n",
    "#Create the below pattern using nested for loop in Python.\n",
    "# *           # denotes the comment line\n",
    "# * *\n",
    "# * * *\n",
    "# * * * *\n",
    "# * * * * *\n",
    "# * * * *\n",
    "# * * *\n",
    "# * *\n",
    "# *\n",
    "n=5;\n",
    "for i in range(n):\n",
    "    for j in range(i):\n",
    "        print ('* ', end=\"\")\n",
    "    print('')\n",
    "\n",
    "for i in range(n,0,-1):\n",
    "    for j in range(i):\n",
    "        print('* ', end=\"\")\n",
    "    print('')"
   ]
  },
  {
   "cell_type": "code",
   "execution_count": 7,
   "metadata": {},
   "outputs": [
    {
     "name": "stdout",
     "output_type": "stream",
     "text": [
      "Enter any word :Bikas kumar\n",
      "ramuk sakiB\n"
     ]
    }
   ],
   "source": [
    "#problem 03\n",
    "# Write a Python program to reverse a word after accepting the input from the user.\n",
    "a = input(\"Enter any word :\")\n",
    "print(a[::-1])"
   ]
  },
  {
   "cell_type": "code",
   "execution_count": 8,
   "metadata": {},
   "outputs": [
    {
     "name": "stdout",
     "output_type": "stream",
     "text": [
      "WE, THE PEOPLE OF INDIA,\n",
      "\thaving solemnly resolved to constitute India into a SOVEREIGN,!\n",
      "\t\tSOCIALIST, SECULAR, DEMOCRATIC REPUBLIC\n",
      "\t\tand to secure to all its citizens:\n"
     ]
    }
   ],
   "source": [
    "#problem 04\n",
    "#Write a Python Program to print the given string in the format specified in the sample output.\n",
    "#WE, THE PEOPLE OF INDIA, having solemnly resolved to constitute India into a\n",
    "#SOVEREIGN, SOCIALIST, SECULAR, DEMOCRATIC REPUBLIC and to secure to all\n",
    "#its citizens\n",
    "string = \"WE, THE PEOPLE OF INDIA,{}having solemnly resolved to constitute India into a SOVEREIGN,{}SOCIALIST, SECULAR, DEMOCRATIC REPUBLIC{}and to secure to all its citizens{}\"\n",
    "print(string.format('\\n\\t','!\\n\\t\\t','\\n\\t\\t',':'))"
   ]
  },
  {
   "cell_type": "code",
   "execution_count": null,
   "metadata": {},
   "outputs": [],
   "source": []
  },
  {
   "cell_type": "code",
   "execution_count": null,
   "metadata": {},
   "outputs": [],
   "source": []
  },
  {
   "cell_type": "code",
   "execution_count": null,
   "metadata": {},
   "outputs": [],
   "source": []
  },
  {
   "cell_type": "code",
   "execution_count": null,
   "metadata": {},
   "outputs": [],
   "source": []
  },
  {
   "cell_type": "code",
   "execution_count": null,
   "metadata": {},
   "outputs": [],
   "source": []
  },
  {
   "cell_type": "code",
   "execution_count": null,
   "metadata": {},
   "outputs": [],
   "source": []
  },
  {
   "cell_type": "code",
   "execution_count": null,
   "metadata": {},
   "outputs": [],
   "source": []
  },
  {
   "cell_type": "code",
   "execution_count": null,
   "metadata": {},
   "outputs": [],
   "source": []
  },
  {
   "cell_type": "code",
   "execution_count": null,
   "metadata": {},
   "outputs": [],
   "source": []
  },
  {
   "cell_type": "code",
   "execution_count": null,
   "metadata": {},
   "outputs": [],
   "source": []
  },
  {
   "cell_type": "code",
   "execution_count": null,
   "metadata": {},
   "outputs": [],
   "source": []
  },
  {
   "cell_type": "code",
   "execution_count": null,
   "metadata": {},
   "outputs": [],
   "source": []
  },
  {
   "cell_type": "code",
   "execution_count": null,
   "metadata": {},
   "outputs": [],
   "source": []
  },
  {
   "cell_type": "code",
   "execution_count": null,
   "metadata": {},
   "outputs": [],
   "source": []
  },
  {
   "cell_type": "code",
   "execution_count": null,
   "metadata": {},
   "outputs": [],
   "source": []
  },
  {
   "cell_type": "code",
   "execution_count": null,
   "metadata": {},
   "outputs": [],
   "source": []
  },
  {
   "cell_type": "code",
   "execution_count": null,
   "metadata": {},
   "outputs": [],
   "source": []
  },
  {
   "cell_type": "code",
   "execution_count": null,
   "metadata": {},
   "outputs": [],
   "source": []
  },
  {
   "cell_type": "code",
   "execution_count": null,
   "metadata": {},
   "outputs": [],
   "source": []
  },
  {
   "cell_type": "code",
   "execution_count": null,
   "metadata": {},
   "outputs": [],
   "source": []
  },
  {
   "cell_type": "code",
   "execution_count": null,
   "metadata": {},
   "outputs": [],
   "source": []
  },
  {
   "cell_type": "code",
   "execution_count": null,
   "metadata": {},
   "outputs": [],
   "source": []
  },
  {
   "cell_type": "code",
   "execution_count": null,
   "metadata": {},
   "outputs": [],
   "source": []
  },
  {
   "cell_type": "code",
   "execution_count": null,
   "metadata": {},
   "outputs": [],
   "source": []
  }
 ],
 "metadata": {
  "kernelspec": {
   "display_name": "Python 3",
   "language": "python",
   "name": "python3"
  },
  "language_info": {
   "codemirror_mode": {
    "name": "ipython",
    "version": 3
   },
   "file_extension": ".py",
   "mimetype": "text/x-python",
   "name": "python",
   "nbconvert_exporter": "python",
   "pygments_lexer": "ipython3",
   "version": "3.7.6"
  }
 },
 "nbformat": 4,
 "nbformat_minor": 4
}
